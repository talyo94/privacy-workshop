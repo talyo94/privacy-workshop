{
 "cells": [
  {
   "cell_type": "code",
   "execution_count": 2,
   "id": "ae16c3dc",
   "metadata": {},
   "outputs": [],
   "source": [
    "from instagrapi import Client\n"
   ]
  },
  {
   "cell_type": "code",
   "execution_count": 4,
   "id": "4a837529",
   "metadata": {},
   "outputs": [
    {
     "data": {
      "text/plain": [
       "True"
      ]
     },
     "execution_count": 4,
     "metadata": {},
     "output_type": "execute_result"
    }
   ],
   "source": [
    "ACCOUNT_USERNAME=\"devaccount333\"\n",
    "ACCOUNT_PASSWORD=\"aahaah123\"\n",
    "cl = Client()\n",
    "cl.login(ACCOUNT_USERNAME, ACCOUNT_PASSWORD)"
   ]
  },
  {
   "cell_type": "code",
   "execution_count": 5,
   "id": "08953283",
   "metadata": {},
   "outputs": [],
   "source": [
    "# https://adw0rd.github.io/instagrapi/\n",
    "user_id = cl.user_id_from_username(\"amityuval9\")"
   ]
  },
  {
   "cell_type": "code",
   "execution_count": 6,
   "id": "79478569",
   "metadata": {},
   "outputs": [
    {
     "data": {
      "text/plain": [
       "'10574863'"
      ]
     },
     "execution_count": 6,
     "metadata": {},
     "output_type": "execute_result"
    }
   ],
   "source": [
    "user_id"
   ]
  },
  {
   "cell_type": "code",
   "execution_count": 9,
   "id": "158216d0",
   "metadata": {},
   "outputs": [],
   "source": [
    "user = cl.user_info(user_id)"
   ]
  },
  {
   "cell_type": "code",
   "execution_count": 11,
   "id": "302b4df9",
   "metadata": {},
   "outputs": [
    {
     "data": {
      "text/plain": [
       "{'pk': '10574863',\n",
       " 'username': 'amityuval9',\n",
       " 'full_name': 'Amit Yuval',\n",
       " 'is_private': False,\n",
       " 'profile_pic_url': HttpUrl('https://instagram.ftlv6-1.fna.fbcdn.net/v/t51.2885-19/255241557_835616543776424_5992633106962207165_n.jpg?stp=dst-jpg_s150x150&_nc_ht=instagram.ftlv6-1.fna.fbcdn.net&_nc_cat=108&_nc_ohc=iwb0VIZOB0cAX_FEYYB&edm=ABfd0MgBAAAA&ccb=7-4&oh=00_AT_O37zPH_o40_BindXqJjwMqlopeMr5i5vOsp6KHCTVaQ&oe=62410638&_nc_sid=7bff83', scheme='https', host='instagram.ftlv6-1.fna.fbcdn.net', tld='net', host_type='domain', port='443', path='/v/t51.2885-19/255241557_835616543776424_5992633106962207165_n.jpg', query='stp=dst-jpg_s150x150&_nc_ht=instagram.ftlv6-1.fna.fbcdn.net&_nc_cat=108&_nc_ohc=iwb0VIZOB0cAX_FEYYB&edm=ABfd0MgBAAAA&ccb=7-4&oh=00_AT_O37zPH_o40_BindXqJjwMqlopeMr5i5vOsp6KHCTVaQ&oe=62410638&_nc_sid=7bff83'),\n",
       " 'profile_pic_url_hd': HttpUrl('https://instagram.ftlv6-1.fna.fbcdn.net/v/t51.2885-19/255241557_835616543776424_5992633106962207165_n.jpg?stp=dst-jpg_s320x320&_nc_ht=instagram.ftlv6-1.fna.fbcdn.net&_nc_cat=108&_nc_ohc=iwb0VIZOB0cAX_FEYYB&edm=ABfd0MgBAAAA&ccb=7-4&oh=00_AT91OjvxXxX1GPKXFcIpNkYjib4u5n1gkMq6XwNttGfeow&oe=62410638&_nc_sid=7bff83', scheme='https', host='instagram.ftlv6-1.fna.fbcdn.net', tld='net', host_type='domain', port='443', path='/v/t51.2885-19/255241557_835616543776424_5992633106962207165_n.jpg', query='stp=dst-jpg_s320x320&_nc_ht=instagram.ftlv6-1.fna.fbcdn.net&_nc_cat=108&_nc_ohc=iwb0VIZOB0cAX_FEYYB&edm=ABfd0MgBAAAA&ccb=7-4&oh=00_AT91OjvxXxX1GPKXFcIpNkYjib4u5n1gkMq6XwNttGfeow&oe=62410638&_nc_sid=7bff83'),\n",
       " 'is_verified': False,\n",
       " 'media_count': 111,\n",
       " 'follower_count': 10101,\n",
       " 'following_count': 405,\n",
       " 'biography': 'עמית לא יובל',\n",
       " 'external_url': None,\n",
       " 'is_business': True,\n",
       " 'public_email': None,\n",
       " 'contact_phone_number': None,\n",
       " 'business_contact_method': 'UNKNOWN',\n",
       " 'business_category_name': 'General Interest',\n",
       " 'category_name': 'Just for fun'}"
      ]
     },
     "execution_count": 11,
     "metadata": {},
     "output_type": "execute_result"
    }
   ],
   "source": [
    "user.dict()"
   ]
  },
  {
   "cell_type": "code",
   "execution_count": null,
   "id": "87c0e5aa",
   "metadata": {},
   "outputs": [],
   "source": []
  }
 ],
 "metadata": {
  "kernelspec": {
   "display_name": "Python 3 (ipykernel)",
   "language": "python",
   "name": "python3"
  },
  "language_info": {
   "codemirror_mode": {
    "name": "ipython",
    "version": 3
   },
   "file_extension": ".py",
   "mimetype": "text/x-python",
   "name": "python",
   "nbconvert_exporter": "python",
   "pygments_lexer": "ipython3",
   "version": "3.9.12"
  }
 },
 "nbformat": 4,
 "nbformat_minor": 5
}
