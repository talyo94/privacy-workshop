{
 "cells": [
  {
   "cell_type": "code",
   "execution_count": 3,
   "id": "67ed52d3",
   "metadata": {},
   "outputs": [],
   "source": [
    "import pandas as pd\n",
    "import json"
   ]
  },
  {
   "cell_type": "code",
   "execution_count": 4,
   "id": "90cc9c18",
   "metadata": {},
   "outputs": [],
   "source": [
    "with open(\"./fake/fake-data.json\") as fake:\n",
    "    fake_data = json.load(fake)\n",
    "    \n",
    "with open(\"./fake/real-data.json\") as real:\n",
    "    real_data = json.load(real)"
   ]
  },
  {
   "cell_type": "code",
   "execution_count": 6,
   "id": "8fdffe9e",
   "metadata": {},
   "outputs": [
    {
     "data": {
      "text/plain": [
       "200"
      ]
     },
     "execution_count": 6,
     "metadata": {},
     "output_type": "execute_result"
    }
   ],
   "source": [
    "len(fake_data)"
   ]
  },
  {
   "cell_type": "code",
   "execution_count": 7,
   "id": "1040135b",
   "metadata": {},
   "outputs": [
    {
     "data": {
      "text/plain": [
       "994"
      ]
     },
     "execution_count": 7,
     "metadata": {},
     "output_type": "execute_result"
    }
   ],
   "source": [
    "len(real_data)"
   ]
  },
  {
   "cell_type": "code",
   "execution_count": 10,
   "id": "ae98b6b0",
   "metadata": {},
   "outputs": [],
   "source": [
    "with open(\"./automated/automated.json\") as fake:\n",
    "    automated = json.load(fake)\n",
    "    \n",
    "with open(\"./automated/real.json\") as real:\n",
    "    real_data = json.load(real)"
   ]
  },
  {
   "cell_type": "code",
   "execution_count": 12,
   "id": "57552987",
   "metadata": {},
   "outputs": [
    {
     "data": {
      "text/plain": [
       "700"
      ]
     },
     "execution_count": 12,
     "metadata": {},
     "output_type": "execute_result"
    }
   ],
   "source": [
    "len(automated)"
   ]
  },
  {
   "cell_type": "code",
   "execution_count": 13,
   "id": "e8abee23",
   "metadata": {},
   "outputs": [
    {
     "data": {
      "text/plain": [
       "700"
      ]
     },
     "execution_count": 13,
     "metadata": {},
     "output_type": "execute_result"
    }
   ],
   "source": [
    "len(real_data)"
   ]
  },
  {
   "cell_type": "code",
   "execution_count": 17,
   "id": "530dcadf",
   "metadata": {},
   "outputs": [
    {
     "data": {
      "text/plain": [
       "{'userBiographyLength',\n",
       " 'userFollowerCount',\n",
       " 'userFollowingCount',\n",
       " 'userMediaCount',\n",
       " 'usernameDigitCount',\n",
       " 'usernameLength'}"
      ]
     },
     "execution_count": 17,
     "metadata": {},
     "output_type": "execute_result"
    }
   ],
   "source": [
    "set(automated[0].keys()).intersection(set(fake_data[0].keys()))"
   ]
  },
  {
   "cell_type": "code",
   "execution_count": 18,
   "id": "cc6eb4d6",
   "metadata": {},
   "outputs": [
    {
     "data": {
      "text/plain": [
       "dict_keys(['userFollowerCount', 'userFollowingCount', 'userBiographyLength', 'userMediaCount', 'userHasProfilPic', 'userIsPrivate', 'usernameDigitCount', 'usernameLength', 'isFake'])"
      ]
     },
     "execution_count": 18,
     "metadata": {},
     "output_type": "execute_result"
    }
   ],
   "source": [
    "fake_data[0].keys()"
   ]
  },
  {
   "cell_type": "code",
   "execution_count": 20,
   "id": "ec2bf7d7",
   "metadata": {},
   "outputs": [
    {
     "data": {
      "text/plain": [
       "dict_keys(['userMediaCount', 'mediaLikeNumbers', 'mediaCommentNumbers', 'mediaCommentsAreDisabled', 'mediaHashtagNumbers', 'mediaUploadTimes', 'mediaHasLocationInfo', 'userFollowerCount', 'userFollowingCount', 'userHasHighlighReels', 'userHasExternalUrl', 'userTagsCount', 'userBiographyLength', 'usernameLength', 'usernameDigitCount', 'automatedBehaviour'])"
      ]
     },
     "execution_count": 20,
     "metadata": {},
     "output_type": "execute_result"
    }
   ],
   "source": [
    "automated[0].keys()"
   ]
  },
  {
   "cell_type": "code",
   "execution_count": null,
   "id": "2f17634f",
   "metadata": {},
   "outputs": [],
   "source": []
  }
 ],
 "metadata": {
  "kernelspec": {
   "display_name": "Python 3 (ipykernel)",
   "language": "python",
   "name": "python3"
  },
  "language_info": {
   "codemirror_mode": {
    "name": "ipython",
    "version": 3
   },
   "file_extension": ".py",
   "mimetype": "text/x-python",
   "name": "python",
   "nbconvert_exporter": "python",
   "pygments_lexer": "ipython3",
   "version": "3.9.13"
  }
 },
 "nbformat": 4,
 "nbformat_minor": 5
}
