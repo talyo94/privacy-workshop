{
 "cells": [
  {
   "cell_type": "code",
   "execution_count": 6,
   "id": "4b3c9b5d",
   "metadata": {},
   "outputs": [],
   "source": [
    "import os\n",
    "import re\n",
    "import json\n",
    "import pickle\n",
    "import pandas as pd\n",
    "from sklearn.model_selection import train_test_split"
   ]
  },
  {
   "cell_type": "code",
   "execution_count": 15,
   "id": "bf307870",
   "metadata": {},
   "outputs": [],
   "source": [
    "# Data from instagram example:\n",
    "res = {'pk': '10574863',\n",
    " 'username': 'amityuval9',\n",
    " 'full_name': 'Amit Yuval',\n",
    " 'is_private': False,\n",
    " 'profile_pic_url': 'https://instagram.ftlv6-1.fna',\n",
    " 'profile_pic_url_hd': 'https://instagram.ftlv6-1.fna',\n",
    " 'is_verified': False,\n",
    " 'media_count': 111,\n",
    " 'follower_count': 10101,\n",
    " 'following_count': 405,\n",
    " 'biography': 'עמית לא יובל',\n",
    " 'external_url': None,\n",
    " 'is_business': True,\n",
    " 'public_email': None,\n",
    " 'contact_phone_number': None,\n",
    " 'business_contact_method': 'UNKNOWN',\n",
    " 'business_category_name': 'General Interest',\n",
    " 'category_name': 'Just for fun'}"
   ]
  },
  {
   "cell_type": "code",
   "execution_count": 30,
   "id": "4dff0f23",
   "metadata": {},
   "outputs": [],
   "source": [
    "fake_df = pd.read_json(\"../../data/fake/fake-data.json\")\n",
    "real_df = pd.read_json(\"../../data/fake/real-data.json\")\n",
    "df = pd.concat([fake_df,real_df])\n",
    "Y = df.isFake\n",
    "X = df.drop([\"isFake\"], axis=1)\n",
    "X_train, X_test, Y_train, Y_test = train_test_split(X, Y, test_size=0.25, random_state=2)\n",
    "loaded_model = pickle.load(\n",
    "    open(\n",
    "        \"../model_training/trained_models/RandomForestClassifier_finalized_model.sav\",\n",
    "        \"rb\",\n",
    "    )\n",
    ")\n",
    "# loaded_model.score(X_test, Y_test)"
   ]
  },
  {
   "cell_type": "code",
   "execution_count": 34,
   "id": "959fe2a3",
   "metadata": {},
   "outputs": [],
   "source": [
    "def insta_to_model(data):\n",
    "    return {\n",
    "        \"userFollowerCount\": data[\"follower_count\"],\n",
    "        \"userFollowingCount\": data[\"following_count\"],\n",
    "        \"userBiographyLength\": len(data[\"biography\"]),\n",
    "        \"userMediaCount\": data[\"media_count\"],\n",
    "        \"userHasProfilPic\": data[\"profile_pic_url\"] is not None,\n",
    "        \"userIsPrivate\": data[\"is_private\"],\n",
    "        \"usernameDigitCount\": sum(c.isdigit() for c in data[\"username\"]),\n",
    "        \"usernameLength\": len(data[\"username\"])\n",
    "    }"
   ]
  },
  {
   "cell_type": "code",
   "execution_count": 35,
   "id": "fe754a09",
   "metadata": {},
   "outputs": [
    {
     "data": {
      "text/plain": [
       "array([[0.98, 0.02],\n",
       "       [0.98, 0.02]])"
      ]
     },
     "execution_count": 35,
     "metadata": {},
     "output_type": "execute_result"
    }
   ],
   "source": [
    "v = pd.DataFrame([pd.Series(insta_to_model(res, index=[])), pd.Series(insta_to_model(res))])\n",
    "loaded_model.predict_proba(v)"
   ]
  },
  {
   "cell_type": "code",
   "execution_count": 42,
   "id": "7e5eed79",
   "metadata": {},
   "outputs": [
    {
     "data": {
      "text/plain": [
       "a    1\n",
       "b    2\n",
       "c    3\n",
       "d    4\n",
       "dtype: int64"
      ]
     },
     "execution_count": 42,
     "metadata": {},
     "output_type": "execute_result"
    }
   ],
   "source": [
    "pd.Series({\"a\": 1, \"b\": 2, \"d\": 4, \"c\":3}, index=[\"a\", \"b\", \"c\", \"d\"])"
   ]
  },
  {
   "cell_type": "code",
   "execution_count": null,
   "id": "5c576c2d",
   "metadata": {},
   "outputs": [],
   "source": []
  }
 ],
 "metadata": {
  "kernelspec": {
   "display_name": "Python 3 (ipykernel)",
   "language": "python",
   "name": "python3"
  },
  "language_info": {
   "codemirror_mode": {
    "name": "ipython",
    "version": 3
   },
   "file_extension": ".py",
   "mimetype": "text/x-python",
   "name": "python",
   "nbconvert_exporter": "python",
   "pygments_lexer": "ipython3",
   "version": "3.9.12"
  }
 },
 "nbformat": 4,
 "nbformat_minor": 5
}
