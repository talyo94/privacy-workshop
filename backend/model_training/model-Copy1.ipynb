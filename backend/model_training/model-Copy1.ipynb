{
 "cells": [
  {
   "cell_type": "code",
   "execution_count": 52,
   "id": "339e8944",
   "metadata": {},
   "outputs": [],
   "source": [
    "#Numpy deals with large arrays and linear algebra\n",
    "import numpy as np\n",
    "# Library for data manipulation and analysis\n",
    "import pandas as pd \n",
    "# graphing\n",
    "from matplotlib import pyplot as plt\n",
    " \n",
    "# Metrics for Evaluation of model Accuracy and F1-score\n",
    "from sklearn.metrics  import f1_score, accuracy_score, precision_score\n",
    " \n",
    "#Importing the Decision Tree from scikit-learn library\n",
    "from sklearn import tree\n",
    "from sklearn.tree import DecisionTreeClassifier\n",
    "from sklearn.linear_model import LogisticRegression\n",
    "# Support Vector Machine\n",
    "from sklearn.svm import SVC\n",
    "from sklearn.naive_bayes import GaussianNB\n",
    "from sklearn.naive_bayes import MultinomialNB\n",
    "from sklearn.linear_model import SGDClassifier\n",
    "from sklearn.ensemble import GradientBoostingClassifier\n",
    "from sklearn.ensemble import RandomForestClassifier\n",
    "\n",
    "# For splitting of data into train and test set\n",
    "from sklearn.model_selection import train_test_split\n",
    "from sklearn import model_selection\n",
    "\n",
    "import os\n",
    "import re\n",
    "import json\n",
    "import pickle\n",
    "\n",
    "# for regression we use R2 score and MAE(mean absolute error)\n",
    "# all other steps will be same as classification as shown above\n",
    "from sklearn.metrics import mean_absolute_error\n",
    "from sklearn.metrics import r2_score"
   ]
  },
  {
   "cell_type": "code",
   "execution_count": 3,
   "id": "6aa36a7b",
   "metadata": {},
   "outputs": [],
   "source": [
    "fake_df = pd.read_json(\"../../data/fake/fake-data.json\")\n",
    "real_df = pd.read_json(\"../../data/fake/real-data.json\")\n",
    "df = pd.concat([fake_df,real_df])"
   ]
  },
  {
   "cell_type": "code",
   "execution_count": 6,
   "id": "f08d9d60",
   "metadata": {},
   "outputs": [],
   "source": [
    "y = df.isFake\n",
    "X = df.drop([\"isFake\"], axis=1)\n",
    "X_train, X_test, y_train, y_test = train_test_split(X, y, test_size=0.25, random_state=2)"
   ]
  },
  {
   "cell_type": "code",
   "execution_count": 7,
   "id": "ad2c1274",
   "metadata": {},
   "outputs": [
    {
     "data": {
      "text/html": [
       "<div>\n",
       "<style scoped>\n",
       "    .dataframe tbody tr th:only-of-type {\n",
       "        vertical-align: middle;\n",
       "    }\n",
       "\n",
       "    .dataframe tbody tr th {\n",
       "        vertical-align: top;\n",
       "    }\n",
       "\n",
       "    .dataframe thead th {\n",
       "        text-align: right;\n",
       "    }\n",
       "</style>\n",
       "<table border=\"1\" class=\"dataframe\">\n",
       "  <thead>\n",
       "    <tr style=\"text-align: right;\">\n",
       "      <th></th>\n",
       "      <th>userFollowerCount</th>\n",
       "      <th>userFollowingCount</th>\n",
       "      <th>userBiographyLength</th>\n",
       "      <th>userMediaCount</th>\n",
       "      <th>userHasProfilPic</th>\n",
       "      <th>userIsPrivate</th>\n",
       "      <th>usernameDigitCount</th>\n",
       "      <th>usernameLength</th>\n",
       "    </tr>\n",
       "  </thead>\n",
       "  <tbody>\n",
       "    <tr>\n",
       "      <th>count</th>\n",
       "      <td>299.000000</td>\n",
       "      <td>299.000000</td>\n",
       "      <td>299.000000</td>\n",
       "      <td>299.000000</td>\n",
       "      <td>299.000000</td>\n",
       "      <td>299.000000</td>\n",
       "      <td>299.000000</td>\n",
       "      <td>299.000000</td>\n",
       "    </tr>\n",
       "    <tr>\n",
       "      <th>mean</th>\n",
       "      <td>369.133779</td>\n",
       "      <td>647.672241</td>\n",
       "      <td>20.846154</td>\n",
       "      <td>57.702341</td>\n",
       "      <td>0.926421</td>\n",
       "      <td>0.682274</td>\n",
       "      <td>0.448161</td>\n",
       "      <td>11.070234</td>\n",
       "    </tr>\n",
       "    <tr>\n",
       "      <th>std</th>\n",
       "      <td>344.570293</td>\n",
       "      <td>828.622573</td>\n",
       "      <td>31.591931</td>\n",
       "      <td>110.422078</td>\n",
       "      <td>0.261522</td>\n",
       "      <td>0.466373</td>\n",
       "      <td>1.117203</td>\n",
       "      <td>2.837622</td>\n",
       "    </tr>\n",
       "    <tr>\n",
       "      <th>min</th>\n",
       "      <td>0.000000</td>\n",
       "      <td>0.000000</td>\n",
       "      <td>0.000000</td>\n",
       "      <td>0.000000</td>\n",
       "      <td>0.000000</td>\n",
       "      <td>0.000000</td>\n",
       "      <td>0.000000</td>\n",
       "      <td>5.000000</td>\n",
       "    </tr>\n",
       "    <tr>\n",
       "      <th>25%</th>\n",
       "      <td>154.500000</td>\n",
       "      <td>256.500000</td>\n",
       "      <td>0.000000</td>\n",
       "      <td>3.000000</td>\n",
       "      <td>1.000000</td>\n",
       "      <td>0.000000</td>\n",
       "      <td>0.000000</td>\n",
       "      <td>9.000000</td>\n",
       "    </tr>\n",
       "    <tr>\n",
       "      <th>50%</th>\n",
       "      <td>319.000000</td>\n",
       "      <td>454.000000</td>\n",
       "      <td>3.000000</td>\n",
       "      <td>20.000000</td>\n",
       "      <td>1.000000</td>\n",
       "      <td>1.000000</td>\n",
       "      <td>0.000000</td>\n",
       "      <td>11.000000</td>\n",
       "    </tr>\n",
       "    <tr>\n",
       "      <th>75%</th>\n",
       "      <td>471.500000</td>\n",
       "      <td>690.500000</td>\n",
       "      <td>32.000000</td>\n",
       "      <td>61.500000</td>\n",
       "      <td>1.000000</td>\n",
       "      <td>1.000000</td>\n",
       "      <td>0.000000</td>\n",
       "      <td>13.000000</td>\n",
       "    </tr>\n",
       "    <tr>\n",
       "      <th>max</th>\n",
       "      <td>3140.000000</td>\n",
       "      <td>7493.000000</td>\n",
       "      <td>150.000000</td>\n",
       "      <td>875.000000</td>\n",
       "      <td>1.000000</td>\n",
       "      <td>1.000000</td>\n",
       "      <td>7.000000</td>\n",
       "      <td>21.000000</td>\n",
       "    </tr>\n",
       "  </tbody>\n",
       "</table>\n",
       "</div>"
      ],
      "text/plain": [
       "       userFollowerCount  userFollowingCount  userBiographyLength  \\\n",
       "count         299.000000          299.000000           299.000000   \n",
       "mean          369.133779          647.672241            20.846154   \n",
       "std           344.570293          828.622573            31.591931   \n",
       "min             0.000000            0.000000             0.000000   \n",
       "25%           154.500000          256.500000             0.000000   \n",
       "50%           319.000000          454.000000             3.000000   \n",
       "75%           471.500000          690.500000            32.000000   \n",
       "max          3140.000000         7493.000000           150.000000   \n",
       "\n",
       "       userMediaCount  userHasProfilPic  userIsPrivate  usernameDigitCount  \\\n",
       "count      299.000000        299.000000     299.000000          299.000000   \n",
       "mean        57.702341          0.926421       0.682274            0.448161   \n",
       "std        110.422078          0.261522       0.466373            1.117203   \n",
       "min          0.000000          0.000000       0.000000            0.000000   \n",
       "25%          3.000000          1.000000       0.000000            0.000000   \n",
       "50%         20.000000          1.000000       1.000000            0.000000   \n",
       "75%         61.500000          1.000000       1.000000            0.000000   \n",
       "max        875.000000          1.000000       1.000000            7.000000   \n",
       "\n",
       "       usernameLength  \n",
       "count      299.000000  \n",
       "mean        11.070234  \n",
       "std          2.837622  \n",
       "min          5.000000  \n",
       "25%          9.000000  \n",
       "50%         11.000000  \n",
       "75%         13.000000  \n",
       "max         21.000000  "
      ]
     },
     "execution_count": 7,
     "metadata": {},
     "output_type": "execute_result"
    }
   ],
   "source": [
    "X_test.describe()"
   ]
  },
  {
   "cell_type": "code",
   "execution_count": 18,
   "id": "3b306992",
   "metadata": {},
   "outputs": [
    {
     "name": "stdout",
     "output_type": "stream",
     "text": [
      "0.9531772575250836\n",
      "0.8409090909090909\n",
      "0.046822742474916385\n",
      "0.046822742474916385\n"
     ]
    }
   ],
   "source": [
    "# Training the model is as simple as this\n",
    "# Use the function imported above and apply fit() on it\n",
    "DT = DecisionTreeClassifier()\n",
    "DT.fit(X_train,y_train)\n",
    "# We use the predict() on the model to predict the output\n",
    "pred=DT.predict(X_test)\n",
    " \n",
    "# for classification we use accuracy and F1 score\n",
    "print(accuracy_score(y_test,pred))\n",
    "print(f1_score(y_test,pred))\n",
    " \n",
    "\n",
    "print(mean_absolute_error(y_test,pred))\n",
    "print(mean_absolute_error(y_test,pred))\n"
   ]
  },
  {
   "cell_type": "code",
   "execution_count": 27,
   "id": "03f48351",
   "metadata": {},
   "outputs": [
    {
     "name": "stdout",
     "output_type": "stream",
     "text": [
      "              precision    recall  f1-score   support\n",
      "\n",
      "           0       0.98      0.96      0.97       258\n",
      "           1       0.79      0.90      0.84        41\n",
      "\n",
      "    accuracy                           0.95       299\n",
      "   macro avg       0.89      0.93      0.91       299\n",
      "weighted avg       0.96      0.95      0.95       299\n",
      "\n"
     ]
    }
   ],
   "source": [
    "from sklearn.metrics import classification_report\n",
    "from sklearn.metrics import confusion_matrix\n",
    "from sklearn.metrics import accuracy_score\n",
    "\n",
    "# print(\"CONFUSION MATRIX:\\n\", confusion_matrix(y_test,pred))\n",
    "print(classification_report(pred, y_test))\n"
   ]
  },
  {
   "cell_type": "code",
   "execution_count": 9,
   "id": "2d49708b",
   "metadata": {},
   "outputs": [],
   "source": [
    "def evaluate_using_model(class_, X_train,X_test,y_train,y_test):\n",
    "    c = class_()\n",
    "    c.fit(X_train,y_train)\n",
    "    pred = c.predict(X_test)\n",
    "    # for classification we use accuracy and F1 score\n",
    "#     filename = f'./trained_models/{class_.__name__}_finalized_model.sav'\n",
    "#     pickle.dump(c, open(filename, 'wb'))\n",
    "    \n",
    "    return accuracy_score(y_test,pred), f1_score(y_test,pred), precision_score(y_test,pred)"
   ]
  },
  {
   "cell_type": "code",
   "execution_count": 10,
   "id": "ed62445d",
   "metadata": {},
   "outputs": [],
   "source": [
    "goodness = {}\n",
    "classifiers = [\n",
    "    RandomForestClassifier,\n",
    "    DecisionTreeClassifier,\n",
    "    #     LogisticRegression,\n",
    "    SVC,\n",
    "    GaussianNB,\n",
    "    MultinomialNB,\n",
    "    SGDClassifier,\n",
    "    GradientBoostingClassifier,\n",
    "]\n",
    "for classifier in classifiers:\n",
    "    accuracy, f1, precision = evaluate_using_model(\n",
    "        classifier, X_train, X_test, y_train, y_test\n",
    "    )\n",
    "    goodness[classifier.__name__] = {\n",
    "        \"accuracy\": accuracy,\n",
    "        \"f1\": f1,\n",
    "        \"precision\": precision,\n",
    "    }"
   ]
  },
  {
   "cell_type": "code",
   "execution_count": 11,
   "id": "f50ddd09",
   "metadata": {},
   "outputs": [
    {
     "data": {
      "text/html": [
       "<div>\n",
       "<style scoped>\n",
       "    .dataframe tbody tr th:only-of-type {\n",
       "        vertical-align: middle;\n",
       "    }\n",
       "\n",
       "    .dataframe tbody tr th {\n",
       "        vertical-align: top;\n",
       "    }\n",
       "\n",
       "    .dataframe thead th {\n",
       "        text-align: right;\n",
       "    }\n",
       "</style>\n",
       "<table border=\"1\" class=\"dataframe\">\n",
       "  <thead>\n",
       "    <tr style=\"text-align: right;\">\n",
       "      <th></th>\n",
       "      <th>accuracy</th>\n",
       "      <th>f1</th>\n",
       "      <th>precision</th>\n",
       "    </tr>\n",
       "  </thead>\n",
       "  <tbody>\n",
       "    <tr>\n",
       "      <th>RandomForestClassifier</th>\n",
       "      <td>0.963211</td>\n",
       "      <td>0.873563</td>\n",
       "      <td>0.950000</td>\n",
       "    </tr>\n",
       "    <tr>\n",
       "      <th>DecisionTreeClassifier</th>\n",
       "      <td>0.956522</td>\n",
       "      <td>0.853933</td>\n",
       "      <td>0.904762</td>\n",
       "    </tr>\n",
       "    <tr>\n",
       "      <th>GradientBoostingClassifier</th>\n",
       "      <td>0.956522</td>\n",
       "      <td>0.847059</td>\n",
       "      <td>0.947368</td>\n",
       "    </tr>\n",
       "    <tr>\n",
       "      <th>SGDClassifier</th>\n",
       "      <td>0.949833</td>\n",
       "      <td>0.827586</td>\n",
       "      <td>0.900000</td>\n",
       "    </tr>\n",
       "    <tr>\n",
       "      <th>MultinomialNB</th>\n",
       "      <td>0.946488</td>\n",
       "      <td>0.809524</td>\n",
       "      <td>0.918919</td>\n",
       "    </tr>\n",
       "    <tr>\n",
       "      <th>SVC</th>\n",
       "      <td>0.923077</td>\n",
       "      <td>0.693333</td>\n",
       "      <td>0.928571</td>\n",
       "    </tr>\n",
       "    <tr>\n",
       "      <th>GaussianNB</th>\n",
       "      <td>0.909699</td>\n",
       "      <td>0.703297</td>\n",
       "      <td>0.727273</td>\n",
       "    </tr>\n",
       "  </tbody>\n",
       "</table>\n",
       "</div>"
      ],
      "text/plain": [
       "                            accuracy        f1  precision\n",
       "RandomForestClassifier      0.963211  0.873563   0.950000\n",
       "DecisionTreeClassifier      0.956522  0.853933   0.904762\n",
       "GradientBoostingClassifier  0.956522  0.847059   0.947368\n",
       "SGDClassifier               0.949833  0.827586   0.900000\n",
       "MultinomialNB               0.946488  0.809524   0.918919\n",
       "SVC                         0.923077  0.693333   0.928571\n",
       "GaussianNB                  0.909699  0.703297   0.727273"
      ]
     },
     "execution_count": 11,
     "metadata": {},
     "output_type": "execute_result"
    }
   ],
   "source": [
    "df = pd.DataFrame(goodness).T\n",
    "df.sort_values(\"accuracy\", ascending=False)"
   ]
  },
  {
   "cell_type": "code",
   "execution_count": 49,
   "id": "00c04b86",
   "metadata": {},
   "outputs": [
    {
     "data": {
      "text/plain": [
       "['accuracy', 'f1', 'precision']"
      ]
     },
     "execution_count": 49,
     "metadata": {},
     "output_type": "execute_result"
    }
   ],
   "source": [
    "list(df.columns)"
   ]
  },
  {
   "cell_type": "code",
   "execution_count": 127,
   "id": "37b79972",
   "metadata": {},
   "outputs": [
    {
     "name": "stdout",
     "output_type": "stream",
     "text": [
      "RandomForestClassifier accuracy: 0.9155532212885154 (0.11474830793345497)\n",
      "DecisionTreeClassifier accuracy: 0.9121778711484593 (0.11303455305727651)\n",
      "SVC accuracy: 0.8964635854341738 (0.15961515563067918)\n",
      "GaussianNB accuracy: 0.9138445378151261 (0.08840854367596283)\n",
      "MultinomialNB accuracy: 0.9464425770308125 (0.0770213757907257)\n",
      "SGDClassifier accuracy: 0.8111834733893557 (0.3125828124312333)\n",
      "GradientBoostingClassifier accuracy: 0.9297619047619048 (0.09788959170694346)\n",
      "RandomForestClassifier f1: 0.9113725490196078 (0.12030425574959074)\n",
      "DecisionTreeClassifier f1: 0.9038165266106443 (0.12307065552185323)\n",
      "SVC f1: 0.8964635854341738 (0.15961515563067918)\n",
      "GaussianNB f1: 0.9138445378151261 (0.08840854367596283)\n",
      "MultinomialNB f1: 0.9464425770308125 (0.0770213757907257)\n",
      "SGDClassifier f1: 0.9298529411764707 (0.10689944178116177)\n",
      "GradientBoostingClassifier f1: 0.930595238095238 (0.09681091014592443)\n",
      "RandomForestClassifier precision: 0.9163935574229691 (0.11646983561700129)\n",
      "DecisionTreeClassifier precision: 0.9105042016806723 (0.11326008487108119)\n",
      "SVC precision: 0.8964635854341738 (0.15961515563067918)\n",
      "GaussianNB precision: 0.9138445378151261 (0.08840854367596283)\n",
      "MultinomialNB precision: 0.9464425770308125 (0.0770213757907257)\n",
      "SGDClassifier precision: 0.9313865546218487 (0.09486338172922518)\n",
      "GradientBoostingClassifier precision: 0.930595238095238 (0.09681091014592443)\n",
      "RandomForestClassifier recall: 0.9113935574229691 (0.12489488259557224)\n",
      "DecisionTreeClassifier recall: 0.9113095238095237 (0.10757511188547741)\n",
      "SVC recall: 0.8964635854341738 (0.15961515563067918)\n",
      "GaussianNB recall: 0.9138445378151261 (0.08840854367596283)\n",
      "MultinomialNB recall: 0.9464425770308125 (0.0770213757907257)\n",
      "SGDClassifier recall: 0.8410224089635854 (0.27962403182309375)\n",
      "GradientBoostingClassifier recall: 0.930595238095238 (0.09681091014592443)\n"
     ]
    }
   ],
   "source": [
    "all_results = []\n",
    "for scoring in ('accuracy', 'f1', 'precision', 'recall'):\n",
    "    results = []\n",
    "    names = []\n",
    "    for classifier in classifiers:\n",
    "        model = classifier()\n",
    "        name = classifier.__name__\n",
    "        kfold = model_selection.KFold(n_splits=10)\n",
    "        cv_results = model_selection.cross_val_score(model, X, y, cv=kfold, scoring='accuracy')\n",
    "        results.append(cv_results)\n",
    "        names.append(name)\n",
    "        msg = f\"{name} {scoring}: {cv_results.mean()} ({cv_results.std()})\"\n",
    "        print(msg)\n",
    "    all_results.append({\"scoring\": scoring, \"names\": names, \"results\": results})"
   ]
  },
  {
   "cell_type": "code",
   "execution_count": 151,
   "id": "4080dd8f",
   "metadata": {},
   "outputs": [
    {
     "data": {
      "text/plain": [
       "[]"
      ]
     },
     "execution_count": 151,
     "metadata": {},
     "output_type": "execute_result"
    },
    {
     "data": {
      "image/png": "[encoded data removed]",
      "text/plain": [
       "<Figure size 1080x720 with 4 Axes>"
      ]
     },
     "metadata": {
      "needs_background": "light"
     },
     "output_type": "display_data"
    }
   ],
   "source": [
    "fig, ax = plt.subplots(2, 2, sharex='col', sharey='row',figsize=(15,10))\n",
    "for idx, result in enumerate(all_results):\n",
    "    a = ax[int(idx/2)][idx%2]\n",
    "    a.boxplot(result[\"results\"])\n",
    "    a.set_title(result[\"scoring\"])\n",
    "# ax[0][0].set_yticks(range(len(all_results[3][\"names\"])))\n",
    "# ax[0][0].set_yticklabels(all_results[3][\"names\"])\n",
    "ax[0][0].set_xticks(range(len(all_results[3][\"names\"])))\n",
    "ax[0][0].set_xticklabels(all_results[3][\"names\"], rotation=90)"
   ]
  },
  {
   "cell_type": "code",
   "execution_count": 8,
   "id": "eab1cf08",
   "metadata": {},
   "outputs": [
    {
     "data": {
      "text/plain": [
       "0.9531772575250836"
      ]
     },
     "execution_count": 8,
     "metadata": {},
     "output_type": "execute_result"
    }
   ],
   "source": [
    "loaded_model = pickle.load(\n",
    "    open(\n",
    "        \"../model_training/trained_models/DecisionTreeClassifier_finalized_model.sav\",\n",
    "        \"rb\",\n",
    "    )\n",
    ")\n",
    "loaded_model.score(X_test, y_test)"
   ]
  },
  {
   "cell_type": "code",
   "execution_count": 30,
   "id": "b5887c92",
   "metadata": {},
   "outputs": [
    {
     "name": "stderr",
     "output_type": "stream",
     "text": [
      "/usr/local/lib/python3.9/site-packages/sklearn/base.py:493: FutureWarning: The feature names should match those that were passed during fit. Starting version 1.2, an error will be raised.\n",
      "Feature names must be in the same order as they were in fit.\n",
      "\n",
      "  warnings.warn(message, FutureWarning)\n"
     ]
    },
    {
     "data": {
      "text/plain": [
       "array([0])"
      ]
     },
     "execution_count": 30,
     "metadata": {},
     "output_type": "execute_result"
    }
   ],
   "source": [
    "v = pd.DataFrame([pd.Series(\n",
    "    {\n",
    "        \"userFollowerCount\": 433,\n",
    "        \"userFollowingCount\": 238,\n",
    "        \"userBiographyLength\": 0,\n",
    "        \"userHasProfilPic\": True,        \n",
    "        \"userMediaCount\": 33,\n",
    "        \"userIsPrivate\": True,\n",
    "        \"usernameDigitCount\": 0,\n",
    "        \"usernameLength\": 10,\n",
    "    }\n",
    ")])\n",
    "loaded_model.predict(v)"
   ]
  }
 ],
 "metadata": {
  "kernelspec": {
   "display_name": "Python 3 (ipykernel)",
   "language": "python",
   "name": "python3"
  },
  "language_info": {
   "codemirror_mode": {
    "name": "ipython",
    "version": 3
   },
   "file_extension": ".py",
   "mimetype": "text/x-python",
   "name": "python",
   "nbconvert_exporter": "python",
   "pygments_lexer": "ipython3",
   "version": "3.9.12"
  }
 },
 "nbformat": 4,
 "nbformat_minor": 5
}
